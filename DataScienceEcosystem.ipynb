{
 "cells": [
  {
   "cell_type": "markdown",
   "id": "c8e24607-89d6-4ad3-a8c9-eb00fa6748bc",
   "metadata": {
    "tags": []
   },
   "source": [
    "\n",
    "# Data Science Tools and Ecosystem"
   ]
  },
  {
   "cell_type": "markdown",
   "id": "e5e7be6f-29e1-4aa0-a3bf-206d050ff800",
   "metadata": {
    "tags": []
   },
   "source": [
    "In this notebook, Data Science Tools and Ecosystem are summsarized."
   ]
  },
  {
   "cell_type": "markdown",
   "id": "4e5d3b2b-6e64-4c2b-a20d-63d461ba3cfe",
   "metadata": {},
   "source": [
    "Some of the popular languages that Data Scientists use are:\n",
    "    1)Python\n",
    "    2)RStudio\n",
    "    3)SQL"
   ]
  },
  {
   "cell_type": "markdown",
   "id": "e6c7a25e-ae8a-454a-bcf9-6a4875e03986",
   "metadata": {},
   "source": [
    "Some of the commonly used libraries used by Data Scientists include:\n",
    "    1)Pandas\n",
    "    2)Numpy\n",
    "    3)Matplotlib"
   ]
  },
  {
   "cell_type": "markdown",
   "id": "5930ee70-101d-40cd-82c0-4e47ea4b137b",
   "metadata": {},
   "source": [
    "|Data Science Tools:|\n",
    "|-------------------|\n",
    "|Apache Spark|\n",
    "|R|\n",
    "|Power Bi|\n"
   ]
  },
  {
   "cell_type": "markdown",
   "id": "27005678-f1bb-4a8e-80b5-8eabd4d9d4f0",
   "metadata": {
    "tags": []
   },
   "source": [
    "### Below are a few examples of evaluating arithmetic expressions in Python.\n",
    "\n"
   ]
  },
  {
   "cell_type": "code",
   "execution_count": 8,
   "id": "d7d1da9d-4c71-42e8-9feb-2e40e6dd99ce",
   "metadata": {
    "tags": []
   },
   "outputs": [
    {
     "data": {
      "text/plain": [
       "17"
      ]
     },
     "execution_count": 8,
     "metadata": {},
     "output_type": "execute_result"
    }
   ],
   "source": [
    "(3*4)+5\n",
    "#This a simple arithmetic expression to mutiply then add integers."
   ]
  },
  {
   "cell_type": "code",
   "execution_count": 9,
   "id": "f711930e-1300-43c0-921f-0ca32c930dfb",
   "metadata": {
    "tags": []
   },
   "outputs": [
    {
     "data": {
      "text/plain": [
       "3.3333333333333335"
      ]
     },
     "execution_count": 9,
     "metadata": {},
     "output_type": "execute_result"
    }
   ],
   "source": [
    "200/60\n",
    "#This will convert 200 minutes to hours by diving by 60"
   ]
  },
  {
   "cell_type": "markdown",
   "id": "82f08c76-b58c-4eca-8db3-659611b8edaf",
   "metadata": {},
   "source": [
    "**Objectives:** List popular languages for Data Science:\n",
    "    * Python\n",
    "    * R\n",
    "    * Sql\n",
    "    \n"
   ]
  },
  {
   "cell_type": "markdown",
   "id": "a3c01453-ff61-461a-b38d-94c30423bc95",
   "metadata": {},
   "source": [
    "## Author:\n",
    "Suraj Yaligar"
   ]
  },
  {
   "cell_type": "code",
   "execution_count": null,
   "id": "515b1bd2-d3a2-49c8-9e50-8886676e0a1d",
   "metadata": {},
   "outputs": [],
   "source": []
  }
 ],
 "metadata": {
  "kernelspec": {
   "display_name": "Python",
   "language": "python",
   "name": "conda-env-python-py"
  },
  "language_info": {
   "codemirror_mode": {
    "name": "ipython",
    "version": 3
   },
   "file_extension": ".py",
   "mimetype": "text/x-python",
   "name": "python",
   "nbconvert_exporter": "python",
   "pygments_lexer": "ipython3",
   "version": "3.7.12"
  }
 },
 "nbformat": 4,
 "nbformat_minor": 5
}
